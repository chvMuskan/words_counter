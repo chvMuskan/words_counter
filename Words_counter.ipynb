{
 "cells": [
  {
   "cell_type": "code",
   "execution_count": null,
   "id": "1a91a488-6a42-4b06-af90-53fa5b96e9ff",
   "metadata": {},
   "outputs": [
    {
     "name": "stdin",
     "output_type": "stream",
     "text": [
      "Enter a sentence or paragraph:  my name is muskan chandrvanshi\n"
     ]
    },
    {
     "name": "stdout",
     "output_type": "stream",
     "text": [
      "Word count: 5\n"
     ]
    }
   ],
   "source": [
    "def count_words(sentence):\n",
    "  \n",
    "  words = sentence.split()  # Split into a list of words\n",
    "  return len(words)  # Count the words in the list\n",
    "\n",
    "\n",
    "def main():\n",
    "  \n",
    "  while True:\n",
    "    user_input = input(\"Enter a sentence or paragraph: \")\n",
    "    if user_input == \"quit\":\n",
    "      break\n",
    "    word_count = count_words(user_input)\n",
    "    print(f\"Word count: {word_count}\")\n",
    "\n",
    "\n",
    "if __name__ == \"__main__\":\n",
    "  main()"
   ]
  },
  {
   "cell_type": "code",
   "execution_count": null,
   "id": "c58462d2-ed59-4158-9ae7-646245bccad2",
   "metadata": {},
   "outputs": [],
   "source": []
  }
 ],
 "metadata": {
  "kernelspec": {
   "display_name": "Python 3 (ipykernel)",
   "language": "python",
   "name": "python3"
  },
  "language_info": {
   "codemirror_mode": {
    "name": "ipython",
    "version": 3
   },
   "file_extension": ".py",
   "mimetype": "text/x-python",
   "name": "python",
   "nbconvert_exporter": "python",
   "pygments_lexer": "ipython3",
   "version": "3.12.4"
  }
 },
 "nbformat": 4,
 "nbformat_minor": 5
}
